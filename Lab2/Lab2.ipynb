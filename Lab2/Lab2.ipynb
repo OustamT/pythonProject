{
 "cells": [
  {
   "cell_type": "markdown",
   "id": "0a736971",
   "metadata": {},
   "source": [
    "# Лабораторна робота №2. Функція `print()`"
   ]
  },
  {
   "cell_type": "markdown",
   "id": "24387d8c",
   "metadata": {},
   "source": [
    "__Мета:__ _навчитися писати і запускати найпростіші програми на Python з використанням функції `print()`_"
   ]
  },
  {
   "cell_type": "markdown",
   "id": "97703178",
   "metadata": {},
   "source": [
    "## Результат виконання завдань"
   ]
  },
  {
   "cell_type": "markdown",
   "id": "de8add6e",
   "metadata": {},
   "source": [
    "1. Змінити код програми, щоби очикуваний результат виглядав наступним чином:"
   ]
  },
  {
   "cell_type": "markdown",
   "id": "f29cd5ba",
   "metadata": {},
   "source": [
    "`Programming***Essentials***in...Python`"
   ]
  },
  {
   "cell_type": "code",
   "execution_count": 1,
   "id": "7c89b2d8",
   "metadata": {},
   "outputs": [
    {
     "name": "stdout",
     "output_type": "stream",
     "text": [
      "Programming***Essential***in...Python\n"
     ]
    }
   ],
   "source": [
    "print(\"Programming\", \"Essential\", \"in\", sep=\"***\", end=\"...\")\n",
    "print(\"Python\")"
   ]
  },
  {
   "cell_type": "markdown",
   "id": "8df2b78a",
   "metadata": {},
   "source": [
    "2. Написати програму, яка виводила б на екран наступну картинку:"
   ]
  },
  {
   "cell_type": "markdown",
   "id": "3f36b55f",
   "metadata": {},
   "source": [
    "![](image/cros.png)"
   ]
  },
  {
   "cell_type": "code",
   "execution_count": 2,
   "id": "4e05dad5",
   "metadata": {},
   "outputs": [
    {
     "name": "stdout",
     "output_type": "stream",
     "text": [
      "    *\n",
      "   * *\n",
      "  *   *\n",
      " *     *\n",
      "***   ***\n",
      "  *   *\n",
      "  *   *\n",
      "  *****\n"
     ]
    }
   ],
   "source": [
    "print(\"    *\\n   * *\\n  *   *\\n *     *\")\n",
    "print(\"***\",\"***\", sep=\"   \")\n",
    "print(\"  *\",\"*\", sep=\"   \")\n",
    "print(\"  *\",\"*\", sep=\"   \")\n",
    "print(\"  *****\")"
   ]
  },
  {
   "cell_type": "markdown",
   "id": "4134ddb0",
   "metadata": {},
   "source": [
    "3. Вивести на екран наступний рядок:"
   ]
  },
  {
   "cell_type": "markdown",
   "id": "5193bbb2",
   "metadata": {},
   "source": [
    "`I'm student`"
   ]
  },
  {
   "cell_type": "code",
   "execution_count": 3,
   "id": "e4514456",
   "metadata": {},
   "outputs": [
    {
     "name": "stdout",
     "output_type": "stream",
     "text": [
      "I'm student\n"
     ]
    }
   ],
   "source": [
    "print(\"I'm student\")"
   ]
  },
  {
   "cell_type": "markdown",
   "id": "6253371a",
   "metadata": {},
   "source": [
    "4. Написати фрагмент кода в один рядок, використовуючи функцію `print()`, а також символи нового рядка та esсape-символи, щоби відповідати очикуваному результату, виведеному у трьох рядках: "
   ]
  },
  {
   "cell_type": "markdown",
   "id": "be78a468",
   "metadata": {},
   "source": [
    "![](image/te.jpg)"
   ]
  },
  {
   "cell_type": "code",
   "execution_count": 4,
   "id": "a0a7dc74",
   "metadata": {},
   "outputs": [
    {
     "name": "stdout",
     "output_type": "stream",
     "text": [
      "\"I'm\"\n",
      "\"\"learning\"\"\n",
      "\"\"\"Python\"\"\"\n"
     ]
    }
   ],
   "source": [
    "print('\\\"I\\'m\\\"\\n\\\"\"learning\\\"\"\\n\\\"\"\"Python\\\"\"\"')"
   ]
  },
  {
   "cell_type": "markdown",
   "id": "eee7a80b",
   "metadata": {},
   "source": [
    "5. Чому в десятковій системі дорівнює $500_8$? Написати код на Python."
   ]
  },
  {
   "cell_type": "code",
   "execution_count": 5,
   "id": "d935b438",
   "metadata": {},
   "outputs": [
    {
     "name": "stdout",
     "output_type": "stream",
     "text": [
      "320\n"
     ]
    }
   ],
   "source": [
    "print(0o500)"
   ]
  },
  {
   "cell_type": "markdown",
   "id": "09ff25fe",
   "metadata": {},
   "source": [
    "6. Чому в десятковій системі дорівнює $777_{16}$? Написати код на Python."
   ]
  },
  {
   "cell_type": "code",
   "execution_count": 6,
   "id": "a1c77566",
   "metadata": {},
   "outputs": [
    {
     "name": "stdout",
     "output_type": "stream",
     "text": [
      "1911\n"
     ]
    }
   ],
   "source": [
    "print(0x777)"
   ]
  }
 ],
 "metadata": {
  "kernelspec": {
   "display_name": "Python 3 (ipykernel)",
   "language": "python",
   "name": "python3"
  },
  "language_info": {
   "codemirror_mode": {
    "name": "ipython",
    "version": 3
   },
   "file_extension": ".py",
   "mimetype": "text/x-python",
   "name": "python",
   "nbconvert_exporter": "python",
   "pygments_lexer": "ipython3",
   "version": "3.9.13"
  }
 },
 "nbformat": 4,
 "nbformat_minor": 5
}
