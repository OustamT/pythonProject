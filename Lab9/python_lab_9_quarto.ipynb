{
 "cells": [
  {
   "cell_type": "markdown",
   "metadata": {},
   "source": [
    "# Лабораторна робота №9. Рядки. Методи рядків і списків. Частина І"
   ]
  },
  {
   "cell_type": "markdown",
   "metadata": {},
   "source": [
    "__Мета:__ _навчитися обробляти рядки за допомогою спеціальних функцій і методів._"
   ]
  },
  {
   "cell_type": "markdown",
   "metadata": {},
   "source": [
    "## Основні методи та функції для обробки рядків"
   ]
  },
  {
   "cell_type": "markdown",
   "metadata": {},
   "source": [
    "### Основні методи для обробки рядків"
   ]
  },
  {
   "cell_type": "markdown",
   "metadata": {},
   "source": [
    "* `capitalize()` – замінює всі мали букви на великі;\n",
    "* `center()` – центрує рядок всередині поля відомої довжини;\n",
    "* `count()` – рахує кількість входжень даного символу в рядку;\n",
    "* `join()` – з'єднує всі елементи кортежу/списку в один рядок;\n",
    "* `lower()` – перетворює всі літери рядка на малі;\n",
    "* `lstrip()` – видаляє білі символи з початку рядка;\n",
    "* `replace()` – замінює задану підрядок іншим;\n",
    "* `rfind()` – знаходить підрядок, пошук починається з кінця рядка;\n",
    "* `rstrip()` – видаляє білі символи з кінця рядка;\n",
    "* `split()` – розбиває рядок на підрядки з використанням заданого роздільника;\n",
    "* `strip()` – видаляє білі символи з початку і кінця рядка;\n",
    "* `swapcase()` – змінює регістр літер на протилежний (малі на великі і навпаки);\n",
    "* `title()` – робить першу літеру в кожному слові великою;\n",
    "* `upper()` – перетворює всі літери рядка на великі.\n"
   ]
  },
  {
   "cell_type": "markdown",
   "metadata": {},
   "source": [
    "### Аналіз вмісту рядків "
   ]
  },
  {
   "cell_type": "markdown",
   "metadata": {},
   "source": [
    "Содержимое строки можна визначити за допомогою наступних методів (вони повертають логічні значення):\n",
    "\n",
    "* `endswith()` - закінчується рядок заданою підстрокою?\n",
    "* `isalnum()` - складається рядок лише з букв і цифр?\n",
    "* `isalpha()` - складається рядок лише з букв?\n",
    "* `islower()` - складається рядок лише з малих літер?\n",
    "* `isspace()` - складається рядок лише з пробільних символів?\n",
    "* `isupper()` - складається рядок лише з великих літер?\n",
    "* `startswith()` - починається рядок з даної підстроки?"
   ]
  },
  {
   "cell_type": "markdown",
   "metadata": {},
   "source": [
    "### Приклад 1\n",
    "\n",
    "Написати власну функцію, яка працює практично так само, як оригінальний метод `split()`, а саме:\n",
    "\n",
    "* вона повинна приймати рівно один аргумент - рядок;\n",
    "* вона повинна повертати список слів, які можна створити з даного рядка, розділивши його пробілами;\n",
    "* якщо рядок порожній, функція повинна повертати порожній список;\n",
    "* ім'я функції `mysplit()`.\n",
    "* Використовуйте шаблон у редакторі. Добре протестуйте свій код. "
   ]
  },
  {
   "cell_type": "code",
   "execution_count": 13,
   "metadata": {},
   "outputs": [
    {
     "name": "stdout",
     "output_type": "stream",
     "text": [
      "['To', 'be', 'or', 'not', 'to', 'be,', 'that', 'is', 'the', 'question']\n",
      "['To', 'be', 'or', 'not', 'to', 'be,that', 'is', 'the', 'question']\n",
      "[]\n",
      "['abc']\n",
      "[]\n"
     ]
    }
   ],
   "source": [
    "def mysplit(string):\n",
    "    string = string.strip() + ' ' # метод strip() не змінює об'єкт, а створює копію!\n",
    "\n",
    "    list_split = []\n",
    "\n",
    "    if string.isspace() or string == \"\": # якщо рядок пустий, або з одних пробілів\n",
    "        return list_split\n",
    "\n",
    "    if string.find(' ') == -1: # якщо з одного слова\n",
    "        list_split.append(string)\n",
    "        return list_split\n",
    "\n",
    "    fnd_1 = 0\n",
    "    fnd_2 = string.find(' ')\n",
    "\n",
    "    while fnd_2 != -1:\n",
    "        list_split.append(string[fnd_1:fnd_2])\n",
    "        fnd_1 = fnd_2 + 1\n",
    "        fnd_2 = string.find(' ', fnd_2 + 1)\n",
    "\n",
    "    return list_split\n",
    "    \n",
    "print(mysplit(\"To be or not to be, that is the question\"))\n",
    "print(mysplit(\"To be or not to be,that is the question\"))\n",
    "print(mysplit(\"   \"))\n",
    "print(mysplit(\" abc \"))\n",
    "print(mysplit(\"\"))"
   ]
  },
  {
   "cell_type": "markdown",
   "metadata": {},
   "source": [
    "### Очікуваний вивод "
   ]
  },
  {
   "cell_type": "markdown",
   "metadata": {},
   "source": [
    "`['To', 'be', 'or', 'not', 'to', 'be,', 'that', 'is', 'the', 'question']`  \n",
    "`['To', 'be', 'or', 'not', 'to', 'be,that', 'is', 'the', 'question']`  \n",
    "`[]`  \n",
    "`['abc']`  \n",
    "`[]`  "
   ]
  },
  {
   "cell_type": "markdown",
   "metadata": {},
   "source": [
    "### Приклад 2\n",
    "\n",
    "Ви, дійсно, бачили семисегментний дисплей.\n",
    "\n",
    "Це пристрій (іноді електронний, іноді механічний), який призначений для відображення однієї десяткової цифри за допомогою підмножини з семи сегментів. Якщо ви все ще не знаєте, що це таке, зверніться до статті у Вікіпедії.\n",
    "\n",
    "Ваше завдання - написати програму, яка здатна імітувати роботу пристрою з семисегментним дисплеєм, хоча краще все ж таки використовувати окремі світлодіоди замість сегментів.\n",
    "\n",
    "Кожна цифра складається з 13 світлодіодів (дехто горять, дехто вимкнені) - ось як ми це уявляємо:\n",
    "\n",
    "![](image/lab9_1.jpg)\n",
    "\n",
    "Примітка: цифра 8 показує всі світлодіоди, які включені.\n",
    "\n",
    "Ваш код повинен відображати будь-яке невід'ємне ціле число, введене користувачем.\n",
    "\n",
    "Порада. Використання списку з десятьма цифрами може бути дуже корисним.\n"
   ]
  },
  {
   "cell_type": "markdown",
   "metadata": {},
   "source": [
    "### Тестові данні"
   ]
  },
  {
   "cell_type": "markdown",
   "metadata": {},
   "source": [
    "Приклад вводу:  \n",
    "\n",
    "`123`  \n",
    "\n",
    "Приклад виводу:  \n",
    "\n",
    "![](image/lab9_2.jpg)"
   ]
  },
  {
   "cell_type": "code",
   "execution_count": 9,
   "metadata": {},
   "outputs": [
    {
     "name": "stdout",
     "output_type": "stream",
     "text": [
      "### ### # # ### \n",
      "  #   # # #   # \n",
      "  # ### ### ### \n",
      "  # #     # #   \n",
      "  # ###   # ### \n"
     ]
    }
   ],
   "source": [
    "number_dict = {'1' : ('  #', '  #', '  #', '  #', '  #'),\n",
    "               '2' : ('###', '  #', '###', '#  ', '###'),\n",
    "               '3' : ('###', '  #', '###', '  #', '###'),\n",
    "               '4' : ('# #', '# #', '###', '  #', '  #'),\n",
    "               '5' : ('###', '#  ', '###', '  #', '###'),\n",
    "               '6' : ('###', '#  ', '###', '# #', '###'),\n",
    "               '7' : ('###', '  #', '  #', '  #', '  #'),\n",
    "               '8' : ('###', '# #', '###', '# #', '###'),\n",
    "               '9' : ('###', '# #', '###', '  #', '###'),\n",
    "               '0' : ('###', '# #', '# #', '# #', '###')\n",
    "               }\n",
    "def display_number(num):\n",
    "    if num < 0:\n",
    "        print(\"Число має бути невід'ємним.\")\n",
    "        return\n",
    "\n",
    "    num_str = str(num)\n",
    "\n",
    "    for level in range(5):\n",
    "        for simbol in num_str:\n",
    "            print(number_dict[simbol][level], end=' ')\n",
    "        print()\n",
    "\n",
    "display_number(7242)\n"
   ]
  },
  {
   "cell_type": "markdown",
   "metadata": {},
   "source": [
    "### Приклад 3\n",
    "[__Шифр Цезаря__](https://uk.wikipedia.org/wiki/Шифр_Цезаря)\n",
    "\n",
    "Цей шифр був (мабуть) винайдений і використаний Гаєм Юлієм Цезарем та його військами під час Галльських війн. Ідея досить проста - кожна буква повідомлення замінюється на найближчу наступну (_A_ стає _B_, _B_ стає _C_ тощо). Єдиним виключенням є буква _Z_, яка стає _A_.\n",
    "\n",
    "Напишіть __програму для шифрування поввідомлення__, використовуючи такі припущення:\n",
    "\n",
    "* вона приймає лише латинські літери (примітка: римляни не використовували пробіли, ні цифри);\n",
    "* всі літери повідомлення знаходяться у верхньому регістрі (примітка: римляни знали лише великі літери)."
   ]
  },
  {
   "cell_type": "code",
   "execution_count": 4,
   "metadata": {},
   "outputs": [
    {
     "name": "stdout",
     "output_type": "stream",
     "text": [
      "Enter your message: test\n",
      "UFTU\n"
     ]
    }
   ],
   "source": [
    "# Caesar cipher.\n",
    "text = input(\"Enter your message: \")\n",
    "cipher = ''\n",
    "for char in text:\n",
    "    if not char.isalpha():\n",
    "        continue\n",
    "    char = char.upper()\n",
    "    code = ord(char) + 1\n",
    "    if code > ord('Z'):\n",
    "        code = ord('A')\n",
    "    cipher += chr(code)\n",
    "\n",
    "print(cipher)"
   ]
  },
  {
   "cell_type": "markdown",
   "metadata": {},
   "source": [
    "### Приклад 4\n",
    "\n",
    "Напишить __програму для дешифрування повідомлення__, зашифрованого шифром Цезара."
   ]
  },
  {
   "cell_type": "code",
   "execution_count": 5,
   "metadata": {},
   "outputs": [
    {
     "name": "stdout",
     "output_type": "stream",
     "text": [
      "Enter your cryptogram: UFTU\n",
      "TEST\n"
     ]
    }
   ],
   "source": [
    "# Тут має бути Ваш код\n",
    "# Caesar cipher - decrypting a message.\n",
    "cipher = input('Enter your cryptogram: ')\n",
    "text = ''\n",
    "for char in cipher:\n",
    "    if not char.isalpha():\n",
    "        continue\n",
    "    char = char.upper()\n",
    "    code = ord(char) - 1\n",
    "    if code < ord('A'):\n",
    "        code = ord('Z')\n",
    "    text += chr(code)\n",
    "\n",
    "print(text)"
   ]
  },
  {
   "cell_type": "markdown",
   "metadata": {},
   "source": [
    "### Завдання 1"
   ]
  },
  {
   "cell_type": "markdown",
   "metadata": {},
   "source": [
    "Ви вже знайомі з шифром Цезаря, і тому ми хочемо, щоб Ви покращили код, який ми нещодавно показували.\n",
    "\n",
    "Вихідний шифр Цезаря зрушує кожен символ однією: a стає b, z стає a, тощо. Давайте зробимо його трохи складнішим і дозволимо зміщеному значенню вийти з діапазону 1-25 включно.\n",
    "\n",
    "Крім того, нехай код зберігає регістр літер (малі літери залишаться малими), а всі неалфавітні символи повинні залишитися без змін.\n",
    "\n",
    "Ваше завдання - написати програму, яка:\n",
    "\n",
    "запитує у користувача рядок, який треба зашифрувати;\n",
    "запитує користувача значення зсуву (ціле число з діапазону 1-25 - примітка: Ви повинні змусити користувача ввести дійсне значення зсуву (не здавайтеся і не дозволяйте некоректним даним обдурити Вас);\n",
    "друкує закодований текст.\n",
    "Протестуйте свій код, використовуючи надані нами дані."
   ]
  },
  {
   "cell_type": "code",
   "execution_count": 11,
   "metadata": {},
   "outputs": [
    {
     "name": "stdout",
     "output_type": "stream",
     "text": [
      "Enter your message: Test\n",
      "Enter your step: 25\n",
      "Sdrs\n"
     ]
    }
   ],
   "source": [
    "text = input(\"Enter your message: \")\n",
    "step = int(input(\"Enter your step: \"))\n",
    "flag = 0\n",
    "\n",
    "while flag == 0:\n",
    "    if step < 1 or step > 25:\n",
    "        print(\"valve worst!!! need 1 - 25\")\n",
    "        step = int(input(\"Enter your step: \"))\n",
    "    else:\n",
    "        flag = 1\n",
    "    \n",
    "\n",
    "cipher = ''\n",
    "for char in text:\n",
    "    if not char.isalpha():\n",
    "        cipher += char\n",
    "        continue\n",
    "    \n",
    "    if char.isupper():\n",
    "        char_value = ord(char) + step\n",
    "        if char_value > ord(\"Z\"):\n",
    "            char_value = char_value - ord(\"Z\")\n",
    "            char_value = ord(\"A\") + char_value - 1\n",
    "            cipher += chr(char_value)\n",
    "            continue\n",
    "        cipher += chr(char_value)\n",
    "    else:\n",
    "        char_value = ord(char) + step\n",
    "        if char_value > ord(\"z\"):\n",
    "            char_value = char_value - ord(\"z\")\n",
    "            char_value = ord(\"a\") + char_value - 1\n",
    "            cipher += chr(char_value)\n",
    "            continue\n",
    "        cipher += chr(char_value)\n",
    "            \n",
    "print(cipher)"
   ]
  },
  {
   "cell_type": "markdown",
   "metadata": {},
   "source": [
    "### Контрольні запитання\n",
    "\n",
    "1. Який із наступних рядків описує справжню умову?\n",
    "![](image/lab9_3.jpg)\n",
    "- True <br> False <br> True <br> True\n",
    "\n",
    "2. Який очікуваний результат наступного коду?\n",
    "![](image/lab9_4.jpg)\n",
    "- are\n",
    "\n",
    "3. Який очікуваний результат наступного коду?\n",
    "![](image/lab9_5.jpg)\n",
    "- помилка"
   ]
  }
 ],
 "metadata": {
  "kernelspec": {
   "display_name": "Python 3 (ipykernel)",
   "language": "python",
   "name": "python3"
  },
  "language_info": {
   "codemirror_mode": {
    "name": "ipython",
    "version": 3
   },
   "file_extension": ".py",
   "mimetype": "text/x-python",
   "name": "python",
   "nbconvert_exporter": "python",
   "pygments_lexer": "ipython3",
   "version": "3.9.13"
  }
 },
 "nbformat": 4,
 "nbformat_minor": 4
}
