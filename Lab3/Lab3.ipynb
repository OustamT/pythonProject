{
 "cells": [
  {
   "cell_type": "markdown",
   "id": "7d62b91d",
   "metadata": {},
   "source": [
    "# Лабораторна робота №3. Змінні. Базові операції вводу/виводу"
   ]
  },
  {
   "cell_type": "markdown",
   "id": "25d1a4c0",
   "metadata": {},
   "source": [
    "__Мета:__ _освоїти роботу зі змінними та операції вводу і виводу_"
   ]
  },
  {
   "cell_type": "markdown",
   "id": "c52aa37d",
   "metadata": {},
   "source": [
    "## Результат виконання завдань"
   ]
  },
  {
   "cell_type": "markdown",
   "id": "bb98f3e2",
   "metadata": {},
   "source": [
    "1. Написати програму, яка обчислює значення функції Гауса:"
   ]
  },
  {
   "cell_type": "markdown",
   "id": "83aad511",
   "metadata": {},
   "source": [
    "![](image/Gauss.jpg)"
   ]
  },
  {
   "cell_type": "code",
   "execution_count": 2,
   "id": "e988e093",
   "metadata": {},
   "outputs": [
    {
     "name": "stdout",
     "output_type": "stream",
     "text": [
      "Введіть значення функцій\n",
      "σ:3\n",
      "x:5\n",
      "μ:7\n",
      "Відповідь: 0.8021255943085963\n"
     ]
    }
   ],
   "source": [
    "import math\n",
    "\n",
    "print(\"Введіть значення функцій\")\n",
    "\n",
    "sigma = float(input(\"\\u03C3:\"))\n",
    "x = float(input(\"x:\"))\n",
    "mu = float(input(\"\\u03BC:\"))\n",
    "\n",
    "fx = (1 / sigma * (2 * math.pi) ** 0.5) * math.exp(-(((x - sigma) ** 2) / (2 * mu ** 2)))\n",
    "\n",
    "print(\"Відповідь:\", fx)"
   ]
  },
  {
   "cell_type": "markdown",
   "id": "60ccf41f",
   "metadata": {},
   "source": [
    "2. Надрукувати рядок та ціле число разом в одному рядку, наприклад, “Загальна кількість яблук:” та total_apples|."
   ]
  },
  {
   "cell_type": "code",
   "execution_count": 3,
   "id": "4b662f7f",
   "metadata": {},
   "outputs": [
    {
     "name": "stdout",
     "output_type": "stream",
     "text": [
      "3,5,6\n",
      "Загальна кількість яблук: 14\n"
     ]
    }
   ],
   "source": [
    "John = 3\n",
    "Mary = 5\n",
    "Adam = 6\n",
    "\n",
    "print(John, Mary, Adam, sep=\",\")\n",
    "\n",
    "total_apples = John + Mary + Adam\n",
    "\n",
    "print(\"Загальна кількість яблук:\", total_apples)"
   ]
  },
  {
   "cell_type": "markdown",
   "id": "46b854ff",
   "metadata": {},
   "source": [
    "3. Враховуючи, що 1 миля дорівнює приблизно 1.61 кілометрам, заповніть програму в редакторі, щоб вона перетворила милі у кілометри та кілометри на милі."
   ]
  },
  {
   "cell_type": "code",
   "execution_count": 4,
   "id": "b9eff76d",
   "metadata": {},
   "outputs": [
    {
     "name": "stdout",
     "output_type": "stream",
     "text": [
      "7.38 miles is 11.88 kilometers\n",
      "12.25 kilometers is 7.61 miles\n"
     ]
    }
   ],
   "source": [
    "kilometers = 12.25\n",
    "miles = 7.38\n",
    "\n",
    "miles_to_kilometers = miles * 1.61\n",
    "kilometers_to_miles = kilometers / 1.61\n",
    "\n",
    "print(miles, \"miles is\", round(miles_to_kilometers, 2), \"kilometers\")\n",
    "print(kilometers, \"kilometers is\", round(kilometers_to_miles, 2), \"miles\")"
   ]
  },
  {
   "cell_type": "markdown",
   "id": "9e7ec8e2",
   "metadata": {},
   "source": [
    "4. Завершити код, щоб оцінити такий вираз:"
   ]
  },
  {
   "cell_type": "markdown",
   "id": "435f90d4",
   "metadata": {},
   "source": [
    "![](image/vyraz.jpg)"
   ]
  },
  {
   "cell_type": "code",
   "execution_count": 5,
   "id": "25251b71",
   "metadata": {},
   "outputs": [
    {
     "name": "stdout",
     "output_type": "stream",
     "text": [
      "Введіть значення функцій x:4\n",
      "y = 240.0\n"
     ]
    }
   ],
   "source": [
    "x = float(input(\"Введіть значення функцій x:\"))\n",
    "y = (3 * x ** 3) - (2 * x ** 2) + (3 ** x) - 1\n",
    "\n",
    "print(\"y =\", y)"
   ]
  },
  {
   "cell_type": "markdown",
   "id": "c696bb55",
   "metadata": {},
   "source": [
    "5. Код редактора містить коментарі. Спробуйте покращити його: додайте або видаліть коментарі там, де ви вважаєте це доречним та змініть імена змінних."
   ]
  },
  {
   "cell_type": "code",
   "execution_count": 6,
   "id": "afaf7f97",
   "metadata": {},
   "outputs": [
    {
     "name": "stdout",
     "output_type": "stream",
     "text": [
      "Hours:  2\n",
      "Seconds in Hours:  7200\n"
     ]
    }
   ],
   "source": [
    "# this program computes the number of seconds in a given number of hours\n",
    "\n",
    "hours = 2\n",
    "seconds_per_hour = 3600\n",
    "\n",
    "print(\"Hours: \", hours)\n",
    "print(\"Seconds in Hours: \", hours * seconds_per_hour)\n",
    "\n",
    "# here we should also print \"Goodbye\", but a programmer didn't have time to write any code"
   ]
  },
  {
   "cell_type": "markdown",
   "id": "94dc76b7",
   "metadata": {},
   "source": [
    "6. Завершити код, щоб отримати результати чотирьох основних арифметичних операцій."
   ]
  },
  {
   "cell_type": "code",
   "execution_count": 9,
   "id": "0dd13275",
   "metadata": {},
   "outputs": [
    {
     "name": "stdout",
     "output_type": "stream",
     "text": [
      "Введіть значення з плаваючою точкою для змінної a:8.5\n",
      "Введіть значення з плаваючою точкою для змінної b:2.7\n",
      "\n",
      "Результати арифметичних дій:\n",
      "1) 11.2 (додавання);\n",
      "2) 5.8 (віднімання);\n",
      "3) 22.950000000000003 (множення);\n",
      "4) 3.148148148148148 (ділення).\n",
      "\n",
      "That's all, folks!\n"
     ]
    }
   ],
   "source": [
    "# input a float value for variable a here\n",
    "a = float(input(\"Введіть значення з плаваючою точкою для змінної a:\"))\n",
    "# input a float value for variable b here\n",
    "b = float(input(\"Введіть значення з плаваючою точкою для змінної b:\"))\n",
    "\n",
    "print(\"\\nРезультати арифметичних дій:\")\n",
    "# output the result of addition here\n",
    "print(\"1)\", a + b, \"(додавання);\")\n",
    "# output the result of subtraction here\n",
    "print(\"2)\", a - b, \"(віднімання);\")\n",
    "# output the result of multiplication here\n",
    "print(\"3)\", a * b, \"(множення);\")\n",
    "# output the result of division here\n",
    "print(\"4)\", a / b, \"(ділення).\")\n",
    "\n",
    "print(\"\\nThat's all, folks!\")"
   ]
  },
  {
   "cell_type": "markdown",
   "id": "783a2de6",
   "metadata": {},
   "source": [
    "7. Завершити код, щоб оцінити такий вираз:"
   ]
  },
  {
   "cell_type": "markdown",
   "id": "39fed7da",
   "metadata": {},
   "source": [
    "![](image/roots.jpg)"
   ]
  },
  {
   "cell_type": "code",
   "execution_count": 10,
   "id": "f0401d63",
   "metadata": {},
   "outputs": [
    {
     "name": "stdout",
     "output_type": "stream",
     "text": [
      "\n",
      "7.\n",
      "\n",
      "Enter value for x: 7\n",
      "y = 0.14005494505494506\n"
     ]
    }
   ],
   "source": [
    "print(\"\\n7.\\n\")\n",
    "\n",
    "x = float(input(\"Enter value for x: \"))\n",
    "y = 1 / (x + (1 / (x + (1 / (x + (1 / (x + (1 / x))))))))\n",
    "print(\"y =\", y)"
   ]
  },
  {
   "cell_type": "markdown",
   "id": "25ff6122",
   "metadata": {},
   "source": [
    "8. підготувати простий код, здатний порахувати час закінчення періоду часу, вираженого в кількості хвилин. Час початку вказується у вигляді пари годин (0..23) та хвилин (0..59). Результат повинен бути надрукований на консолі."
   ]
  },
  {
   "cell_type": "code",
   "execution_count": 12,
   "id": "def2e18b",
   "metadata": {},
   "outputs": [
    {
     "name": "stdout",
     "output_type": "stream",
     "text": [
      "Starting time (hours): 23\n",
      "Starting time (minutes): 58\n",
      "Event duration (minutes): 642\n",
      "Result: 10 : 40\n"
     ]
    }
   ],
   "source": [
    "hour = int(input(\"Starting time (hours): \"))\n",
    "mins = int(input(\"Starting time (minutes): \"))\n",
    "dura = int(input(\"Event duration (minutes): \"))\n",
    "\n",
    "all_mins_container = hour * 60 + mins + dura\n",
    "final_hour = (all_mins_container // 60) % 24\n",
    "final_mins = all_mins_container % 60\n",
    "\n",
    "print(\"Result:\", final_hour, \":\", final_mins)"
   ]
  },
  {
   "cell_type": "markdown",
   "id": "2777d70d",
   "metadata": {},
   "source": [
    "### Контрольні запитання\n",
    "\n",
    "1. Який вивод наступного фрагмента?\n",
    "![](image/task1.jpg)\n",
    "- 55\n",
    "\n",
    "2. Який очікуваний результат наступного фрагмента?\n",
    "![](image/task2.jpg)\n",
    "- str"
   ]
  }
 ],
 "metadata": {
  "kernelspec": {
   "display_name": "Python 3 (ipykernel)",
   "language": "python",
   "name": "python3"
  },
  "language_info": {
   "codemirror_mode": {
    "name": "ipython",
    "version": 3
   },
   "file_extension": ".py",
   "mimetype": "text/x-python",
   "name": "python",
   "nbconvert_exporter": "python",
   "pygments_lexer": "ipython3",
   "version": "3.9.13"
  }
 },
 "nbformat": 4,
 "nbformat_minor": 5
}
