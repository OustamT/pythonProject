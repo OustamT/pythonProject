{
 "cells": [
  {
   "cell_type": "markdown",
   "metadata": {},
   "source": [
    "# Лабораторна робота №7. Словники, кортежі. Обробка винятків"
   ]
  },
  {
   "cell_type": "markdown",
   "metadata": {},
   "source": [
    "__Мета:__ _навчитися працювати зі структурами даних Кортеж та Словник. Навчитись обробляти основні типи винятків_"
   ]
  },
  {
   "cell_type": "markdown",
   "metadata": {},
   "source": [
    "## Робота зі словниками"
   ]
  },
  {
   "cell_type": "markdown",
   "metadata": {},
   "source": [
    "### Приклад 1\n",
    "\n",
    "Створіть кортеж, який містить інформацію про результати іспитів з трьох предметів для студента (наприклад, математика, фізика та хімія). Виведіть на екран середній бал та максимальний бал."
   ]
  },
  {
   "cell_type": "code",
   "execution_count": 36,
   "metadata": {},
   "outputs": [
    {
     "name": "stdout",
     "output_type": "stream",
     "text": [
      "Середній бал: 81.66666666666667\n",
      "Максимальний бал: 90\n"
     ]
    }
   ],
   "source": [
    "# results = (80, 75, 90)\n",
    "\n",
    "average_score = sum(results) / len(results)\n",
    "max_score = max(results)\n",
    "\n",
    "print(f\"Середній бал: {average_score}\")\n",
    "print(f\"Максимальний бал: {max_score}\")"
   ]
  },
  {
   "cell_type": "markdown",
   "metadata": {},
   "source": [
    "У цьому коді ми створюємо кортеж `results`, який містить оцінки студента з трьох предметів. Потім ми обчислюємо середній бал, використовуючи вбудовані функції `sum` та `len`, та максимальний бал, використовуючи вбудовану функцію `max`. Нарешті, ми виводимо ці значення на екран за допомогою функції `print`. Водночас ми продемонстрували один з варіантів форматованого виводу."
   ]
  },
  {
   "cell_type": "markdown",
   "metadata": {},
   "source": [
    "### Приклад 2 "
   ]
  },
  {
   "cell_type": "markdown",
   "metadata": {},
   "source": [
    "Створіть програму, яка буде обчислювати площу трикутника за трьома сторонами, які користувач введе з клавіатури. Збережіть введені користувачем значення за допомогою кортежів та виведіть їх на екран."
   ]
  },
  {
   "cell_type": "code",
   "execution_count": 37,
   "metadata": {},
   "outputs": [
    {
     "name": "stdin",
     "output_type": "stream",
     "text": [
      "Введіть довжину першої сторони трикутника:  1\n",
      "Введіть довжину другої сторони трикутника:  2\n",
      "Введіть довжину третьої сторони трикутника:  3\n"
     ]
    },
    {
     "name": "stdout",
     "output_type": "stream",
     "text": [
      "Довжина сторін трикутника: (1.0, 2.0, 3.0)\n",
      "Площа трикутника: 0.0\n"
     ]
    }
   ],
   "source": [
    "a = float(input(\"Введіть довжину першої сторони трикутника: \"))\n",
    "b = float(input(\"Введіть довжину другої сторони трикутника: \"))\n",
    "c = float(input(\"Введіть довжину третьої сторони трикутника: \"))\n",
    "\n",
    "# обчислюємо півпериметр\n",
    "p = (a + b + c) / 2\n",
    "\n",
    "# обчислюємо площу трикутника за формулою Герона\n",
    "area = (p * (p - a) * (p - b) * (p - c)) ** 0.5\n",
    "\n",
    "# зберігаємо введені користувачем значення у кортеж\n",
    "triangle_sides = (a, b, c)\n",
    "\n",
    "# виводимо на екран введені користувачем значення та площу трикутника\n",
    "print(f\"Довжина сторін трикутника: {triangle_sides}\")\n",
    "print(f\"Площа трикутника: {area}\")\n"
   ]
  },
  {
   "cell_type": "markdown",
   "metadata": {},
   "source": [
    "У цьому прикладі ми використовуємо кортеж `triangle_sides`, щоб зберегти довжини трьох сторін трикутника, які введені користувачем з клавіатури. "
   ]
  },
  {
   "cell_type": "markdown",
   "metadata": {},
   "source": [
    "### Приклад 3 "
   ]
  },
  {
   "cell_type": "markdown",
   "metadata": {},
   "source": [
    "Напишіть програму, яка змінює порядок елементів у кортежі. Користувач повинен ввести кортеж, а програма повинна вивести його елементи у зворотному порядку."
   ]
  },
  {
   "cell_type": "code",
   "execution_count": 38,
   "metadata": {},
   "outputs": [
    {
     "name": "stdin",
     "output_type": "stream",
     "text": [
      "Введіть елементи кортежу, розділені комою:  1, 2, 3, 4, 5\n"
     ]
    },
    {
     "name": "stdout",
     "output_type": "stream",
     "text": [
      "Зворотний порядок елементів кортежу: (' 5', ' 4', ' 3', ' 2', '1')\n"
     ]
    }
   ],
   "source": [
    "t = tuple(input(\"Введіть елементи кортежу, розділені комою: \").split(','))\n",
    "\n",
    "# змінюємо порядок елементів у кортежі\n",
    "reversed_t = t[::-1]\n",
    "\n",
    "# виводимо зворотний порядок елементів на екран\n",
    "print(f\"Зворотний порядок елементів кортежу: {reversed_t}\")"
   ]
  },
  {
   "cell_type": "markdown",
   "metadata": {},
   "source": [
    "У цьому прикладі ми використовуємо оператор зрізу `[::]`, щоб змінити порядок елементів у кортежі `t` на зворотний порядок. Потім ми виводимо на екран зворотний порядок елементів у новому кортежі `reversed_t`.\n",
    "\n",
    "Наприклад, якщо користувач введе `\"1,2,3,4,5\"`, програма виведе на екран: \"Зворотний порядок елементів кортежу: `('5', '4', '3', '2', '1')`."
   ]
  },
  {
   "cell_type": "markdown",
   "metadata": {},
   "source": [
    "### Завдання 1"
   ]
  },
  {
   "cell_type": "markdown",
   "metadata": {},
   "source": [
    "Напишіть програму, яка створює кортеж зі списку чисел, а потім виводить на екран всі числа, які менші за задане число `n`. Умова: користувач вводить число `n`, і   щоб створити новий список `result`, який містить всі числа з кортежу, які менші за `n`, реалізувати за допомогою генератора списків."
   ]
  },
  {
   "cell_type": "code",
   "execution_count": 1,
   "metadata": {},
   "outputs": [
    {
     "name": "stdout",
     "output_type": "stream",
     "text": [
      "Введіть числа, розділені комою: 1,2,3,4,5,6,7,8,9,10\n",
      "введіть число n:5\n",
      "числа, які менші від заданого числа n:  1 2 3 4 \n"
     ]
    }
   ],
   "source": [
    "list_input = input(\"Введіть числа, розділені комою: \").split(',')\n",
    "n = int(input(\"введіть число n:\"))\n",
    "numbers = []\n",
    "\n",
    "for number in list_input:\n",
    "    number = int(number)\n",
    "    numbers.append(number)\n",
    "\n",
    "tuple_numbers = tuple(numbers)\n",
    "\n",
    "result = [i for i in tuple_numbers if i < n]\n",
    "result = sorted(result)\n",
    "\n",
    "print(\"числа, які менші від заданого числа n: \", end=\" \")\n",
    "for i in result:\n",
    "    print(i, end=\" \")\n",
    "print()\n"
   ]
  },
  {
   "cell_type": "markdown",
   "metadata": {},
   "source": [
    "### Завдання 2\n",
    "Напишіть програму, яка створює кортеж з трьох елементів, які є рядками, та з'єднує їх в один рядок з комою як роздільником. Примітка: з'єднати рядки також можна за допомогою методу `.joint()`"
   ]
  },
  {
   "cell_type": "code",
   "execution_count": 4,
   "metadata": {},
   "outputs": [
    {
     "name": "stdout",
     "output_type": "stream",
     "text": [
      "Введіть значення для трьох елементів котеджу\n",
      "перший елемент: перший елемент\n",
      "другий елемент: другий елемент\n",
      "третій елемент: третій елемент\n",
      "перший елемент, другий елемент, третій елемент\n"
     ]
    }
   ],
   "source": [
    "print(\"Введіть значення для трьох елементів котеджу\")\n",
    "\n",
    "first_str = input(\"перший елемент: \")\n",
    "second_str = input(\"другий елемент: \")\n",
    "third_str = input(\"третій елемент: \")\n",
    "\n",
    "tuple_str = (first_str, second_str, third_str)\n",
    "join_str = ', '.join(tuple_str)\n",
    "print(join_str)"
   ]
  },
  {
   "cell_type": "markdown",
   "metadata": {},
   "source": [
    "### Словники "
   ]
  },
  {
   "cell_type": "markdown",
   "metadata": {},
   "source": [
    "### Завдання 3 "
   ]
  },
  {
   "cell_type": "markdown",
   "metadata": {},
   "source": [
    "Створіть словник, який містить інформацію про книги в бібліотеці. Ключами будуть назви книг, а значеннями - автори, рік видання та кількість сторінок. Виведіть на екран інформацію про книгу, введену користувачем."
   ]
  },
  {
   "cell_type": "code",
   "execution_count": 6,
   "metadata": {},
   "outputs": [
    {
     "name": "stdout",
     "output_type": "stream",
     "text": [
      "Введіть назву книги: Хрещений батько\n",
      "Хрещений батько - Маріо Пьюзо, опубліковано у 1969 році, 288 сторінок. \n"
     ]
    }
   ],
   "source": [
    "book_library = {\n",
    "                \"Хрещений батько\": \"Маріо Пьюзо, опубліковано у 1969 році, 288 сторінок. \",\n",
    "                \"Володар кілець\": \"Джон Рональд Руэл Толкин,  опубліковано у 1954 році, 1408 сторінок.\",\n",
    "                \"1984\": \"Джордж Орвелл, опубліковано у  1949 році, 312 сторінок.\"\n",
    "}\n",
    "\n",
    "user_input = input(\"Введіть назву книги: \")\n",
    "if user_input in book_library:\n",
    "    print(user_input, \"-\", book_library[user_input])\n",
    "else:\n",
    "    print(user_input, \"немає в бібліотеці словника\")"
   ]
  },
  {
   "cell_type": "markdown",
   "metadata": {},
   "source": [
    "### Сумісна робота зі словниками і кортежами"
   ]
  },
  {
   "cell_type": "markdown",
   "metadata": {},
   "source": [
    "### Приклад 1"
   ]
  },
  {
   "cell_type": "markdown",
   "metadata": {},
   "source": [
    "Написати програму, яка веде облік студентів групи, забезпечуючи можливість зберігати ім'я і прізвище студента та його оцінки, і виводить середній бал по предметах."
   ]
  },
  {
   "cell_type": "code",
   "execution_count": 22,
   "metadata": {},
   "outputs": [],
   "source": [
    "# school_class = {}\n",
    "\n",
    "# while True:\n",
    "#     name = input(\"Enter the student's name: \")\n",
    "#     if name == '':\n",
    "#         break\n",
    "    \n",
    "#     score = int(input(\"Enter the student's score (0-10): \"))\n",
    "#     if score not in range(0, 11):\n",
    "# \t    break\n",
    "    \n",
    "#     if name in school_class:\n",
    "#         school_class[name] += (score,)\n",
    "#     else:\n",
    "#         school_class[name] = (score,)\n",
    "        \n",
    "# for name in sorted(school_class.keys()):\n",
    "#     adding = 0\n",
    "#     counter = 0\n",
    "#     for score in school_class[name]:\n",
    "#         adding += score\n",
    "#         counter += 1\n",
    "#     print(name, \":\", adding / counter)"
   ]
  },
  {
   "cell_type": "markdown",
   "metadata": {},
   "source": [
    "### Завдання 4"
   ]
  },
  {
   "cell_type": "markdown",
   "metadata": {},
   "source": [
    "Напишіть програму, яка створює словник, що містить інформацію про студентів, використовуючи вказані кортежі в якості значень. Кожен ключ -- це прізвище студента. Виведіть на екран інформацію про студента, введеного користувачем."
   ]
  },
  {
   "cell_type": "code",
   "execution_count": 7,
   "metadata": {},
   "outputs": [
    {
     "name": "stdout",
     "output_type": "stream",
     "text": [
      "Введіть прізвище студента, щоб створити новий список, або натисніть клавішу Enter, щоб вийти: Демчук\n",
      "введіть інформацію про студента: студент\n",
      "Введіть прізвище студента, щоб створити новий список, або натисніть клавішу Enter, щоб вийти: \n",
      "\n",
      "Введіть прізвище студента, щоб дізнатися його інформацію: Демчук\n",
      "Демчук: студент\n"
     ]
    }
   ],
   "source": [
    "students_info = {}\n",
    "\n",
    "while True:\n",
    "    last_name = input(\"Введіть прізвище студента, щоб створити новий список, або натисніть клавішу Enter, щоб вийти: \")\n",
    "    if last_name == '':\n",
    "        break\n",
    "\n",
    "    elif last_name in students_info:\n",
    "        print(\"цього студента вже введено в словник\")\n",
    "    else:\n",
    "        info = input(\"введіть інформацію про студента: \")\n",
    "        students_info[last_name] = (info,)\n",
    "\n",
    "lname_input = input(\"\\nВведіть прізвище студента, щоб дізнатися його інформацію: \")\n",
    "if lname_input in students_info:\n",
    "    print(lname_input + \":\", students_info[lname_input][0])\n",
    "else:\n",
    "    print(lname_input, \"немає у словнику\")"
   ]
  },
  {
   "cell_type": "markdown",
   "metadata": {},
   "source": [
    "### Завдання 5"
   ]
  },
  {
   "cell_type": "markdown",
   "metadata": {},
   "source": [
    "Створіть словник, який містить інформацію про більше, ніж один номер телефону для кожного з контактів в телефонній книзі. Ключами будуть імена контактів, а значеннями - список їхніх номерів телефонів. Напишіть функцію, яка дозволяє додати новий номер телефону до списку номерів телефону певного контакту. Потім виведіть на екран список номерів телефонів для всіх контактів."
   ]
  },
  {
   "cell_type": "code",
   "execution_count": 8,
   "metadata": {},
   "outputs": [
    {
     "name": "stdout",
     "output_type": "stream",
     "text": [
      "не знайдено контакт з іменем Роб  \n",
      "номер +38045... вже є в списку\n",
      "\n",
      "Список усіх контактів:\n",
      "Сем: ['+38045...', '+380534...', '+380565...']\n",
      "Том: ['+38088...', '+380322...', '+380543...']\n",
      "Боб: ['+380053...', '+380032...', '+380232...']\n"
     ]
    }
   ],
   "source": [
    "contact_list = {\n",
    "    \"Сем\": [\"+38045...\", \"+380534...\", \"+380565...\"],\n",
    "    \"Том\": [\"+38088...\", \"+380322...\"],\n",
    "    \"Боб\": [\"+380053...\", \"+380032...\", \"+380232...\"]\n",
    "}\n",
    "\n",
    "\n",
    "def new_number(contact_name, phone_number):\n",
    "    if contact_name in contact_list:\n",
    "        if phone_number not in contact_list[contact_name]:\n",
    "            contact_list[contact_name].append(phone_number)\n",
    "        else:\n",
    "            print(\"номер\", phone_number, \"вже є в списку\")\n",
    "    else:\n",
    "        print(\"не знайдено контакт з іменем\", contact_name, \" \")\n",
    "\n",
    "\n",
    "new_number(\"Роб\", \"+38033..\")\n",
    "new_number(\"Сем\", \"+38045...\")\n",
    "new_number(\"Том\", \"+380543...\")\n",
    "\n",
    "print(\"\\n\" + \"Список усіх контактів:\")\n",
    "for contact_name, phone_numbers in contact_list.items():\n",
    "    print(contact_name + \":\", contact_list[contact_name])"
   ]
  },
  {
   "cell_type": "markdown",
   "metadata": {},
   "source": [
    "### Контрольні запитання\n",
    "\n",
    "1. Що виведе наступний код?\n",
    "![](image/lab7_1.jpg)\n",
    "- (2, 3)\n",
    "\n",
    "2. Що виведе наступний код?\n",
    "![](image/lab7_2.jpg)\n",
    "- помилка\n",
    "\n",
    "3. Що виведе наступний код?\n",
    "![](image/lab7_3.jpg)\n",
    "- помилка\n",
    "\n",
    "4. Що виведе наступний код?\n",
    "![](image/lab7_4.jpg)\n",
    "- {'a': 1, 'b': 2, 'c': 3, 'd': 4}"
   ]
  }
 ],
 "metadata": {
  "kernelspec": {
   "display_name": "Python 3 (ipykernel)",
   "language": "python",
   "name": "python3"
  },
  "language_info": {
   "codemirror_mode": {
    "name": "ipython",
    "version": 3
   },
   "file_extension": ".py",
   "mimetype": "text/x-python",
   "name": "python",
   "nbconvert_exporter": "python",
   "pygments_lexer": "ipython3",
   "version": "3.9.13"
  }
 },
 "nbformat": 4,
 "nbformat_minor": 4
}
