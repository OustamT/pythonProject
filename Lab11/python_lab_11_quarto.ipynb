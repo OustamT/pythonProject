{
 "cells": [
  {
   "cell_type": "markdown",
   "metadata": {},
   "source": [
    "# Лабораторна робота №11. Об'єктно-орієнтоване програмування. Частина І"
   ]
  },
  {
   "cell_type": "markdown",
   "metadata": {},
   "source": [
    "__Мета:__ _навчитися обробляти рядки за допомогою спеціальних функцій і методів._"
   ]
  },
  {
   "cell_type": "markdown",
   "metadata": {},
   "source": [
    "## Основи об'єктно-орієнтованого програмування на Python "
   ]
  },
  {
   "cell_type": "markdown",
   "metadata": {},
   "source": [
    "### Приклад 1\n",
    "\n",
    "В лекції 12 було показано, як розширити можливості `Stack`, визначивши новий клас (тобто підклас), який зберігає усі успадковані риси та додає деякі нові.\n",
    "\n",
    "Ваше завдання -- розширити поведінку класу `Stack` таким чином, щоб клас міг підраховувати всі елементи,\n",
    "що додаються і видаляються (ми припускаємо, що підрахунку видалень достатньо). Використовуйте клас `Stack`, який надано нижче.\n",
    "\n",
    "Дотримуйтесь підказок:\n",
    "\n",
    "* додайте властивість, призначену для підрахунку операцій `pop`, і дайте йому ім'я, що гарантує його приховування;\n",
    "* ініціалізуйте його нулем усередині конструктора;\n",
    "* додайте метод, який повертає поточне значення, надане лічильнику (назвіть його `get_counter()`).\n",
    "* перевірте код"
   ]
  },
  {
   "cell_type": "code",
   "execution_count": 8,
   "metadata": {},
   "outputs": [
    {
     "name": "stdout",
     "output_type": "stream",
     "text": [
      "100\n"
     ]
    }
   ],
   "source": [
    "class Stack:\n",
    "    def __init__(self):\n",
    "        self.__stk = []\n",
    "\n",
    "    def push(self, val):\n",
    "        self.__stk.append(val)\n",
    "\n",
    "    def pop(self):\n",
    "        val = self.__stk[-1]\n",
    "        del self.__stk[-1]\n",
    "        return val\n",
    "\n",
    "\n",
    "class CountingStack(Stack):\n",
    "    def __init__(self):\n",
    "        Stack.__init__(self)\n",
    "        self.__count = 0\n",
    "\n",
    "\n",
    "    def get_counter(self):\n",
    "        return self.__count\n",
    "\n",
    "\n",
    "    def pop(self):\n",
    "        val = Stack.pop(self)\n",
    "        self.__count += 1\n",
    "        return val\n",
    "\n",
    "\n",
    "\n",
    "stk = CountingStack()\n",
    "for i in range(100):\n",
    "    stk.push(i)\n",
    "    stk.pop()\n",
    "print(stk.get_counter())"
   ]
  },
  {
   "cell_type": "markdown",
   "metadata": {},
   "source": [
    "### Приклад 2\n",
    "\n",
    "Як Ви вже знаєте, стек – це структура даних, що реалізує модель __LIFO (Last In – First Out)__.\n",
    "\n",
    "Черга -– це модель даних, що характеризується терміном __FIFO: First In – Fist Out__. Примітка: звичайна черга, відома Вам з магазинів або поштових відділень, працює так само - першим обслуговується покупець, який прийшов першим.\n",
    "\n",
    "Ваше завдання -– реалізувати клас `Queue` з двома основними операціями:\n",
    "\n",
    "* `put(element)`, яка поміщає елемент на кінець черги;\n",
    "* `get()`, яка бере елемент із початку черги і повертає його як результат (черга не може бути порожньою для успішного виконання).\n",
    "\n",
    "Дотримуйтесь підказок:\n",
    "\n",
    "* використовуйте список як сховище (як і у випадку зі стеком);\n",
    "* `put()` повинен додавати елементи на початок списку, а get() повинен видаляти елементи з кінця списку;\n",
    "* визначте новий виняток із ім'ям `QueueError` (виберіть виняток для його створення) та викличте його, коли `get()` спробує працювати з порожнім списком.\n",
    "\n",
    "Протестуйте код, використовуючи надані нами дані.\n",
    "\n",
    "### Очікуваний результат\n",
    "\n",
    "`1`  \n",
    "`dog`  \n",
    "`False`  \n",
    "`Queue error`  "
   ]
  },
  {
   "cell_type": "code",
   "execution_count": 10,
   "metadata": {},
   "outputs": [
    {
     "name": "stdout",
     "output_type": "stream",
     "text": [
      "1\n",
      "dog\n",
      "False\n",
      "Queue error\n"
     ]
    }
   ],
   "source": [
    "class QueueError(Exception):   # Choose base class for the new exception.\n",
    "    pass\n",
    "\n",
    "\n",
    "class Queue:\n",
    "    def __init__(self):\n",
    "        self.list_queue = []\n",
    "\n",
    "    def put(self, elem):\n",
    "        self.list_queue.insert(0, elem)\n",
    "\n",
    "\n",
    "    def get(self):\n",
    "        if not len(self.list_queue):\n",
    "            raise QueueError\n",
    "        else:\n",
    "            elem = self.list_queue.pop()\n",
    "        return elem\n",
    "\n",
    "    \n",
    "#     Альтернативний варіант\n",
    "    # def get(self):\n",
    "    #     if len(self.queue) > 0:\n",
    "    #         elem = self.queue[-1]\n",
    "    #         del self.queue[-1]\n",
    "    #         return elem\n",
    "    #     else:\n",
    "    #         raise QueueError\n",
    "\n",
    "que = Queue()\n",
    "que.put(1)\n",
    "que.put(\"dog\")\n",
    "que.put(False)\n",
    "# print(que.get())\n",
    "try:\n",
    "    for i in range(4):\n",
    "        print(que.get())\n",
    "except QueueError:\n",
    "    print(\"Queue error\")\n"
   ]
  },
  {
   "cell_type": "markdown",
   "metadata": {},
   "source": [
    "### Завдання 1"
   ]
  },
  {
   "cell_type": "markdown",
   "metadata": {},
   "source": [
    "Ваше завдання –- трохи розширити можливості класу `Queue` (див. попередній приклад). Нам потрібен метод без параметрів, який повертає `True`, якщо черга порожня, і `False` інакше.\n",
    "\n",
    "Доповніть код, який надано нижче. Запустіть його, щоб перевірити, чи дає він результат, аналогічний нашому."
   ]
  },
  {
   "cell_type": "code",
   "execution_count": 1,
   "metadata": {},
   "outputs": [
    {
     "name": "stdout",
     "output_type": "stream",
     "text": [
      "1\n",
      "dog\n",
      "False\n",
      "Queue empty\n"
     ]
    }
   ],
   "source": [
    "class QueueError(Exception):\n",
    "    pass\n",
    "\n",
    "\n",
    "class Queue:\n",
    "    def __init__(self):\n",
    "        self.list_queue = []\n",
    "\n",
    "    def put(self, elem):\n",
    "        self.list_queue.insert(0, elem)\n",
    "\n",
    "\n",
    "    def get(self):\n",
    "        if not len(self.list_queue):\n",
    "            raise QueueError\n",
    "        else:\n",
    "            elem = self.list_queue.pop()\n",
    "        return elem\n",
    "\n",
    "\n",
    "class SuperQueue(Queue):\n",
    "    def isempty(self):\n",
    "        if not self.list_queue:\n",
    "            return True\n",
    "        else:\n",
    "            return False\n",
    "\n",
    "\n",
    "que = SuperQueue()\n",
    "que.put(1)\n",
    "que.put(\"dog\")\n",
    "que.put(False)\n",
    "for i in range(4):\n",
    "    if not que.isempty():\n",
    "        print(que.get())\n",
    "    else:\n",
    "        print(\"Queue empty\")\n"
   ]
  },
  {
   "cell_type": "markdown",
   "metadata": {},
   "source": [
    "### Очікуваний результат\n",
    "\n",
    "`1`  \n",
    "`dog`  \n",
    "`False`  \n",
    "`Queue empty`  "
   ]
  },
  {
   "attachments": {},
   "cell_type": "markdown",
   "metadata": {},
   "source": [
    "## Контрольні запитання\n",
    "\n",
    "1. У наступному оголошенні чогось не вистачає – чого?\n",
    "![](image/lab9_1.jpg)\n",
    "- повино бути \"__init__(self):\", а не \"__init__():\"\n",
    "\n",
    "\n",
    "2. Припускаючи, що існує клас з ім'ям `Snake`, напишіть перший рядок оголошення класу Python, вказавши, що новий клас насправді є підкласом Snake.\n",
    "- class someSnake(Snake):\n",
    "\n",
    "3. Змініть код, щоб гарантувати, що властивість `venomous` є приватною.\n",
    "![](image/lab9_2.jpg)\n",
    "- class Snakes:\n",
    "    def __init__(self):<br>\n",
    "        <pre>self.__venomous = True</pre>"
   ]
  }
 ],
 "metadata": {
  "kernelspec": {
   "display_name": "Python 3 (ipykernel)",
   "language": "python",
   "name": "python3"
  },
  "language_info": {
   "codemirror_mode": {
    "name": "ipython",
    "version": 3
   },
   "file_extension": ".py",
   "mimetype": "text/x-python",
   "name": "python",
   "nbconvert_exporter": "python",
   "pygments_lexer": "ipython3",
   "version": "3.9.13"
  }
 },
 "nbformat": 4,
 "nbformat_minor": 4
}
