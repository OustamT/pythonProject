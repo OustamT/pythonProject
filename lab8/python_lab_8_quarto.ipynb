{
 "cells": [
  {
   "cell_type": "markdown",
   "metadata": {},
   "source": [
    "# Лабораторна робота №8. Модулі, пакети та pip"
   ]
  },
  {
   "cell_type": "markdown",
   "metadata": {},
   "source": [
    "__Мета:__ _навчитися імпортувати, користуватися, створювати модулі та пакети. Навчитися користуватися \"сирною крамницею\" PyPi та менеджером пакетів `pip`_"
   ]
  },
  {
   "cell_type": "markdown",
   "metadata": {},
   "source": [
    "## Створення модуля"
   ]
  },
  {
   "cell_type": "markdown",
   "metadata": {},
   "source": [
    "### Завдання 1\n",
    "\n",
    "Створити модуль `module.py` та файл `main.py`, структура яких описана у лекції 9, повторишви кроки 1-10. "
   ]
  },
  {
   "cell_type": "markdown",
   "metadata": {},
   "source": [
    "1-2. ![](image/1.jpg)"
   ]
  },
  {
   "cell_type": "markdown",
   "metadata": {},
   "source": [
    "3-4. ![](image/2.jpg)"
   ]
  },
  {
   "cell_type": "code",
   "execution_count": 2,
   "metadata": {},
   "outputs": [
    {
     "data": {
      "text/plain": [
       "'Файл main.py '"
      ]
     },
     "execution_count": 2,
     "metadata": {},
     "output_type": "execute_result"
    }
   ],
   "source": [
    "import module\n",
    "'''Файл main.py '''"
   ]
  },
  {
   "cell_type": "code",
   "execution_count": 3,
   "metadata": {},
   "outputs": [
    {
     "name": "stdout",
     "output_type": "stream",
     "text": [
      "Мені подобається бути модулем\n",
      "__main__\n"
     ]
    },
    {
     "data": {
      "text/plain": [
       "'Файл module.py '"
      ]
     },
     "execution_count": 3,
     "metadata": {},
     "output_type": "execute_result"
    }
   ],
   "source": [
    "print(\"Мені подобається бути модулем\")\n",
    "print(__name__)\n",
    "'''Файл module.py '''"
   ]
  },
  {
   "cell_type": "markdown",
   "metadata": {},
   "source": [
    "5-6. ![](image/3.jpg)"
   ]
  },
  {
   "cell_type": "code",
   "execution_count": 1,
   "metadata": {},
   "outputs": [
    {
     "name": "stdout",
     "output_type": "stream",
     "text": [
      "0\n"
     ]
    },
    {
     "data": {
      "text/plain": [
       "'Файл main.py '"
      ]
     },
     "execution_count": 1,
     "metadata": {},
     "output_type": "execute_result"
    }
   ],
   "source": [
    "import module\n",
    "print(module.__counter)\n",
    "'''Файл main.py '''"
   ]
  },
  {
   "cell_type": "code",
   "execution_count": 4,
   "metadata": {},
   "outputs": [
    {
     "name": "stdout",
     "output_type": "stream",
     "text": [
      "I prefer to be a module.\n"
     ]
    },
    {
     "data": {
      "text/plain": [
       "'Файл module.py '"
      ]
     },
     "execution_count": 4,
     "metadata": {},
     "output_type": "execute_result"
    }
   ],
   "source": [
    "__counter = 0\n",
    "\n",
    "if __name__ == \"__main__\":\n",
    "   print(\"I prefer to be a module.\")\n",
    "else:\n",
    "   print(\"I like to be a module\")\n",
    "'''Файл module.py '''"
   ]
  },
  {
   "cell_type": "markdown",
   "metadata": {},
   "source": [
    "8. ![](image/4.jpg)"
   ]
  },
  {
   "cell_type": "code",
   "execution_count": 5,
   "metadata": {},
   "outputs": [
    {
     "name": "stdout",
     "output_type": "stream",
     "text": [
      "C:\\Users\\Денис\\Desktop\\lab8test\n",
      "C:\\Anaconda3\\python39.zip\n",
      "C:\\Anaconda3\\DLLs\n",
      "C:\\Anaconda3\\lib\n",
      "C:\\Anaconda3\n",
      "\n",
      "C:\\Anaconda3\\lib\\site-packages\n",
      "C:\\Anaconda3\\lib\\site-packages\\win32\n",
      "C:\\Anaconda3\\lib\\site-packages\\win32\\lib\n",
      "C:\\Anaconda3\\lib\\site-packages\\Pythonwin\n",
      "C:\\Anaconda3\\lib\\site-packages\\IPython\\extensions\n",
      "C:\\Users\\Денис\\.ipython\n"
     ]
    },
    {
     "data": {
      "text/plain": [
       "'Файл main.py '"
      ]
     },
     "execution_count": 5,
     "metadata": {},
     "output_type": "execute_result"
    }
   ],
   "source": [
    "import sys\n",
    "for p in sys.path:\n",
    "   print(p)\n",
    "'''Файл main.py '''"
   ]
  },
  {
   "cell_type": "markdown",
   "metadata": {},
   "source": [
    "7, 9-10. ![](image/5.jpg)"
   ]
  },
  {
   "cell_type": "code",
   "execution_count": 6,
   "metadata": {},
   "outputs": [
    {
     "name": "stdout",
     "output_type": "stream",
     "text": [
      "\n",
      "7.\n",
      "0\n",
      "1\n",
      "\n",
      "9.\n",
      "0\n",
      "1\n"
     ]
    },
    {
     "data": {
      "text/plain": [
       "'Файл main.py '"
      ]
     },
     "execution_count": 6,
     "metadata": {},
     "output_type": "execute_result"
    }
   ],
   "source": [
    "#7\n",
    "print(\"\\n7.\")\n",
    "from module import suml, prodl\n",
    "zeroes = [0 for i in range(5)]\n",
    "ones = [1 for i in range(5)]\n",
    "print(suml(zeroes))\n",
    "print(prodl(ones))\n",
    "\n",
    "#9\n",
    "print(\"\\n9.\")\n",
    "from sys import path\n",
    "path.append(\"moduls\")\n",
    "\n",
    "import module\n",
    "\n",
    "zeroes = [0 for i in range(5)]\n",
    "ones = [1 for i in range(5)]\n",
    "print(module.suml(zeroes))\n",
    "print(module.prodl(ones))\n",
    "'''Файл main.py '''"
   ]
  },
  {
   "cell_type": "code",
   "execution_count": 7,
   "metadata": {},
   "outputs": [
    {
     "name": "stdout",
     "output_type": "stream",
     "text": [
      "I prefer to be a module, but I can do some tests for you.\n",
      "True\n",
      "True\n"
     ]
    },
    {
     "data": {
      "text/plain": [
       "'Файл module.py '"
      ]
     },
     "execution_count": 7,
     "metadata": {},
     "output_type": "execute_result"
    }
   ],
   "source": [
    "__counter = 0\n",
    "\n",
    "def suml(the_list):\n",
    "    global __counter\n",
    "    __counter += 1\n",
    "    the_sum = 0\n",
    "    for element in the_list:\n",
    "        the_sum += element\n",
    "    return the_sum\n",
    "\n",
    "def prodl(the_list):\n",
    "    global __counter\n",
    "    __counter += 1\n",
    "    prod = 1\n",
    "\n",
    "    for element in the_list:\n",
    "        prod *= element\n",
    "    return prod\n",
    "\n",
    "if __name__ == \"__main__\":\n",
    "    print(\"I prefer to be a module, but I can do some tests for you.\")\n",
    "\n",
    "    my_list = [i + 1 for i in range(5)]\n",
    "\n",
    "    print(suml(my_list) == 15)\n",
    "    print(prodl(my_list) == 120)\n",
    "'''Файл module.py '''"
   ]
  },
  {
   "cell_type": "markdown",
   "metadata": {},
   "source": [
    "9+. ![](image/6.jpg)"
   ]
  },
  {
   "cell_type": "code",
   "execution_count": 8,
   "metadata": {},
   "outputs": [
    {
     "name": "stdout",
     "output_type": "stream",
     "text": [
      "10\n",
      "0\n"
     ]
    },
    {
     "data": {
      "text/plain": [
       "'Файл main.py '"
      ]
     },
     "execution_count": 8,
     "metadata": {},
     "output_type": "execute_result"
    }
   ],
   "source": [
    "from sys import path\n",
    "path.append(\"moduls\")\n",
    "\n",
    "import module\n",
    "\n",
    "zeroes = [i for i in range(5)]\n",
    "ones = [i for i in range(5)]\n",
    "print(module.suml(zeroes))\n",
    "print(module.prodl(ones))\n",
    "'''Файл main.py '''"
   ]
  },
  {
   "cell_type": "markdown",
   "metadata": {},
   "source": [
    "## Створення пакета"
   ]
  },
  {
   "cell_type": "markdown",
   "metadata": {},
   "source": [
    "### Завдання 2\n",
    "\n",
    "Створити пакет `extra`, структура яких описана у лекції 9, повторишви кроки 1-7, завантаживши потрібні файли за навкденими нижче посиланнями:  \n",
    "\n",
    "[Modules and Packages ZIP file.zip](python_lab_8_quarto_files\\Modules and Packages ZIP file.zip)\n",
    "\n",
    "[Extrapack ZIP file.zip](python_lab_8_quarto_files\\Extrapack ZIP file.zip)\n",
    "\n"
   ]
  },
  {
   "cell_type": "markdown",
   "metadata": {},
   "source": [
    "1-5. ![](image/np2.jpg)![](image/1p2.jpg)"
   ]
  },
  {
   "cell_type": "code",
   "execution_count": 9,
   "metadata": {},
   "outputs": [
    {
     "name": "stdout",
     "output_type": "stream",
     "text": [
      "Iota\n"
     ]
    },
    {
     "data": {
      "text/plain": [
       "'Файл main2.py '"
      ]
     },
     "execution_count": 9,
     "metadata": {},
     "output_type": "execute_result"
    }
   ],
   "source": [
    "from sys import path\n",
    "path.append(\"packages\")\n",
    "\n",
    "import extra.iota\n",
    "print(extra.iota.FunI())\n",
    "\n",
    "# from extra.iota import FunI\n",
    "# print(FunI())\n",
    "'''Файл main2.py '''"
   ]
  },
  {
   "cell_type": "markdown",
   "metadata": {},
   "source": [
    "6. ![](image/2p2.jpg)"
   ]
  },
  {
   "cell_type": "code",
   "execution_count": 10,
   "metadata": {},
   "outputs": [
    {
     "name": "stdout",
     "output_type": "stream",
     "text": [
      "Sigma\n",
      "Alpha\n"
     ]
    },
    {
     "data": {
      "text/plain": [
       "'Файл main2.py '"
      ]
     },
     "execution_count": 10,
     "metadata": {},
     "output_type": "execute_result"
    }
   ],
   "source": [
    "from sys import path\n",
    "path.append(\"packages\")\n",
    "\n",
    "# import extra.good.best.sigma\n",
    "# from extra.good.best.tau import FunT\n",
    "# print(extra.good.best.sigma.FunS())\n",
    "# print(FunT())\n",
    "\n",
    "import extra.good.best.sigma as sig\n",
    "import extra.good.alpha as alp\n",
    "print(sig.FunS())\n",
    "print(alp.FunA())\n",
    "'''Файл main2.py '''"
   ]
  },
  {
   "cell_type": "markdown",
   "metadata": {},
   "source": [
    "7. ![](image/3p2.jpg)![](image/4p2.jpg)"
   ]
  },
  {
   "cell_type": "code",
   "execution_count": 11,
   "metadata": {},
   "outputs": [
    {
     "name": "stdout",
     "output_type": "stream",
     "text": [
      "Sigma\n",
      "Alpha\n",
      "Iota\n",
      "Beta\n"
     ]
    },
    {
     "data": {
      "text/plain": [
       "'Файл main2.py '"
      ]
     },
     "execution_count": 11,
     "metadata": {},
     "output_type": "execute_result"
    }
   ],
   "source": [
    "from sys import path\n",
    "path.append(\"packages\\\\Extrapack.zip\")\n",
    "\n",
    "import extra.good.best.sigma as sig\n",
    "import extra.good.alpha as alp\n",
    "from extra.iota import FunI\n",
    "from extra.good.beta import FunB\n",
    "print(sig.FunS())\n",
    "print(alp.FunA())\n",
    "print(FunI())\n",
    "print(FunB())\n",
    "'''Файл main2.py '''"
   ]
  },
  {
   "cell_type": "markdown",
   "metadata": {},
   "source": [
    "## Робота з менеджером пакетів `pip` "
   ]
  },
  {
   "cell_type": "markdown",
   "metadata": {},
   "source": [
    "Список основних команд `pip`:\n",
    "\n",
    "* `pip help operation` – показує короткий опис pip;\n",
    "* `pip list` – показує список встановлених пакетів;\n",
    "* `pip show package_name` – показує інформацію про package_name, включаючи залежність пакета;\n",
    "* `pip search anystring` – виконує пошук у каталогах PyPI, щоб знайти пакети, імена яких містять anystring;\n",
    "* `pip install name` – встановлює name у масштабі всієї системи (очікуйте проблем, якщо у Вас немає прав адміністратора);\n",
    "* `pip install` --user name – встановлює name лише для Вас; жоден інший користувач платформи не зможе його використовувати;\n",
    "* `pip install -U name` – оновлює раніше встановлений пакет;\n",
    "* `pip uninstall name` – видаляє встановлений раніше пакет."
   ]
  },
  {
   "cell_type": "markdown",
   "metadata": {},
   "source": [
    "### Завдання 3\n",
    "За допомогою менеджера пакетів `pip`: \n",
    "\n",
    "* вивести перелік встановлених на Вашому комп'ютері пакетів\n",
    "* знайти і встановити пакет `pygame`\n",
    "* вивести інформацію про `pygame`\n",
    "* запустити код, наведений нижче\n",
    "* деінсталювати пакет `pygame`"
   ]
  },
  {
   "cell_type": "markdown",
   "metadata": {},
   "source": [
    "![](image/pygame1.jpg)"
   ]
  },
  {
   "cell_type": "code",
   "execution_count": 1,
   "metadata": {},
   "outputs": [
    {
     "name": "stdout",
     "output_type": "stream",
     "text": [
      "pygame 2.4.0 (SDL 2.26.4, Python 3.9.13)\n",
      "Hello from the pygame community. https://www.pygame.org/contribute.html\n"
     ]
    }
   ],
   "source": [
    "import pygame\n",
    "\n",
    "run = True\n",
    "width = 400\n",
    "height = 100\n",
    "pygame.init()\n",
    "screen = pygame.display.set_mode((width, height))\n",
    "font = pygame.font.SysFont(None, 48)\n",
    "text = font.render(\"Welcome to pygame\", True, (255, 255, 255))\n",
    "screen.blit(text, ((width - text.get_width()) // 2, (height - text.get_height()) // 2))\n",
    "pygame.display.flip()\n",
    "while run:\n",
    "    for event in pygame.event.get():\n",
    "        if event.type == pygame.QUIT\\\n",
    "        or event.type == pygame.MOUSEBUTTONUP\\\n",
    "        or event.type == pygame.KEYUP:\n",
    "            run = False"
   ]
  },
  {
   "cell_type": "markdown",
   "metadata": {},
   "source": [
    "![](image/cmdPyAn.jpg)"
   ]
  },
  {
   "attachments": {},
   "cell_type": "markdown",
   "metadata": {},
   "source": [
    "### Контрольні запитання\n",
    "\n",
    "1. Ви хочете заборонити користувачеві модуля запускати ваш код як звичайний скрипт. Як досягти такого ефекту? Написати код.\n",
    "- import sys <br> if __name__ == \"__main__\":<br> <pre>print \"Don't do that!\" sys.exit()</pre>\n",
    "\n",
    "\n",
    "2. Деякі додаткові та необхідні пакети зберігаються в каталозі D:\\Python\\Project\\Modules. Напишіть код, який забезпечує перегляд каталогу Python для пошуку всіх модулів. Написати код.\n",
    "- import sys <br> sys.path.append(\"D:\\\\Python\\\\project\\\\Modules\")\n",
    "\n",
    "\n",
    "3. Каталог, згаданий у попередній вправі, містить піддерево наступної структури:\n",
    "![](image/way.jpg)\n",
    "- import abc.def.mymodule\n",
    "\n",
    "4. Припускаючи, що `D:\\Python\\Project\\Modules` був успішно доданий до списку `sys.path`, напишіть директиву імпорту, що дозволяє використовувати всі сутності з `mymodule`.\n",
    "- from sys import path <br> path.append('..\\\\modules’) <br> import module"
   ]
  }
 ],
 "metadata": {
  "kernelspec": {
   "display_name": "Python 3 (ipykernel)",
   "language": "python",
   "name": "python3"
  },
  "language_info": {
   "codemirror_mode": {
    "name": "ipython",
    "version": 3
   },
   "file_extension": ".py",
   "mimetype": "text/x-python",
   "name": "python",
   "nbconvert_exporter": "python",
   "pygments_lexer": "ipython3",
   "version": "3.9.13"
  }
 },
 "nbformat": 4,
 "nbformat_minor": 4
}
