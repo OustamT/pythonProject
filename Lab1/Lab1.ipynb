{
 "cells": [
  {
   "cell_type": "markdown",
   "id": "d8b6e1e5",
   "metadata": {},
   "source": [
    "# Лабораторна робота №1. Інсталяція та налаштування Python-середовища"
   ]
  },
  {
   "cell_type": "markdown",
   "id": "8660e840",
   "metadata": {},
   "source": [
    "__Мета:__ _quick start для роботи з python3 у середовищі IDE PyCharm системою контроля версій git._"
   ]
  },
  {
   "cell_type": "markdown",
   "id": "a77ad9a7",
   "metadata": {},
   "source": [
    "## Результат виконання завдань"
   ]
  },
  {
   "cell_type": "markdown",
   "id": "b1c10eb3",
   "metadata": {},
   "source": [
    "![](image/pycharm.jpg)"
   ]
  },
  {
   "cell_type": "code",
   "execution_count": 2,
   "id": "35bd64e3",
   "metadata": {},
   "outputs": [
    {
     "name": "stdout",
     "output_type": "stream",
     "text": [
      "Привіт, Демчук\n"
     ]
    }
   ],
   "source": [
    "print(\"Привіт, Демчук\")"
   ]
  },
  {
   "cell_type": "markdown",
   "id": "cc7ed7a0",
   "metadata": {},
   "source": [
    "![](image/github.jpg)"
   ]
  },
  {
   "cell_type": "markdown",
   "id": "63726939",
   "metadata": {},
   "source": [
    "Посилання на GitHub-репозиторій [тут](https://github.com/OustamT/pythonProject)."
   ]
  }
 ],
 "metadata": {
  "kernelspec": {
   "display_name": "Python 3 (ipykernel)",
   "language": "python",
   "name": "python3"
  },
  "language_info": {
   "codemirror_mode": {
    "name": "ipython",
    "version": 3
   },
   "file_extension": ".py",
   "mimetype": "text/x-python",
   "name": "python",
   "nbconvert_exporter": "python",
   "pygments_lexer": "ipython3",
   "version": "3.9.13"
  }
 },
 "nbformat": 4,
 "nbformat_minor": 5
}
