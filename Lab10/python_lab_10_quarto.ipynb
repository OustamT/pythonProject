{
 "cells": [
  {
   "cell_type": "markdown",
   "metadata": {},
   "source": [
    "# Лабораторна робота №10. Рядки. Методи рядків і списків. Винятки. Частина ІІ"
   ]
  },
  {
   "cell_type": "markdown",
   "metadata": {},
   "source": [
    "__Мета:__ _навчитися обробляти рядки за допомогою спеціальних функцій і методів._"
   ]
  },
  {
   "cell_type": "markdown",
   "metadata": {},
   "source": [
    "### Основні методи для обробки рядків"
   ]
  },
  {
   "cell_type": "markdown",
   "metadata": {},
   "source": [
    "* `capitalize()` – замінює всі мали букви на великі;\n",
    "* `center()` – центрує рядок всередині поля відомої довжини;\n",
    "* `count()` – рахує кількість входжень даного символу в рядку;\n",
    "* `join()` – з'єднує всі елементи кортежу/списку в один рядок;\n",
    "* `lower()` – перетворює всі літери рядка на малі;\n",
    "* `lstrip()` – видаляє білі символи з початку рядка;\n",
    "* `replace()` – замінює задану підрядок іншим;\n",
    "* `rfind()` – знаходить підрядок, пошук починається з кінця рядка;\n",
    "* `rstrip()` – видаляє білі символи з кінця рядка;\n",
    "* `split()` – розбиває рядок на підрядки з використанням заданого роздільника;\n",
    "* `strip()` – видаляє білі символи з початку і кінця рядка;\n",
    "* `swapcase()` – змінює регістр літер на протилежний (малі на великі і навпаки);\n",
    "* `title()` – робить першу літеру в кожному слові великою;\n",
    "* `upper()` – перетворює всі літери рядка на великі.\n"
   ]
  },
  {
   "cell_type": "markdown",
   "metadata": {},
   "source": [
    "### Аналіз вмісту рядків "
   ]
  },
  {
   "cell_type": "markdown",
   "metadata": {},
   "source": [
    "Содержимое строки можна визначити за допомогою наступних методів (вони повертають логічні значення):\n",
    "\n",
    "* `endswith()` - закінчується рядок заданою підстрокою?\n",
    "* `isalnum()` - складається рядок лише з букв і цифр?\n",
    "* `isalpha()` - складається рядок лише з букв?\n",
    "* `islower()` - складається рядок лише з малих літер?\n",
    "* `isspace()` - складається рядок лише з пробільних символів?\n",
    "* `isupper()` - складається рядок лише з великих літер?\n",
    "* `startswith()` - починається рядок з даної підстроки?"
   ]
  },
  {
   "cell_type": "markdown",
   "metadata": {},
   "source": [
    "### Приклад 1\n",
    "\n",
    "Ви знаєте, що таке паліндром?\n",
    "\n",
    "Це слово, яке виглядає однаково під час читання вперед і назад. Наприклад, \"козак\" - це паліндром, а \"лояльний\" - ні.\n",
    "\n",
    "Ваше завдання - написати програму, яка:\n",
    "\n",
    "* запитує у користувача текст;\n",
    "* перевіряє, чи є введений текст паліндромом, і друкує результат.\n",
    "\n",
    "Примітка:\n",
    "\n",
    "* припустимо, що порожній рядок не є паліндромом;\n",
    "* великі та малі літери обробляються як однакові;\n",
    "* прогалини не враховуються під час перевірки - розглядайте їх як неіснуючі;\n",
    "* правильних рішень більш ніж кілька – спробуйте знайти більше одного.\n",
    "\n",
    "Протестуйте свій код, використовуючи надані нами дані."
   ]
  },
  {
   "cell_type": "markdown",
   "metadata": {},
   "source": [
    "Приклад вводу:  \n",
    "\n",
    "`А роза упала на лапу Азора`  \n",
    "\n",
    "Приклад виводу:  \n",
    "\n",
    "`It's a palindrome`"
   ]
  },
  {
   "cell_type": "code",
   "execution_count": 2,
   "metadata": {},
   "outputs": [
    {
     "name": "stdin",
     "output_type": "stream",
     "text": [
      "Введіть текст: А роза упала на лапу Азора\n"
     ]
    },
    {
     "name": "stdout",
     "output_type": "stream",
     "text": [
      "It's a palindrom\n"
     ]
    },
    {
     "name": "stdin",
     "output_type": "stream",
     "text": [
      "Введіть текст: А роза не падала лапу\n"
     ]
    },
    {
     "name": "stdout",
     "output_type": "stream",
     "text": [
      "It's not a palindrom\n"
     ]
    }
   ],
   "source": [
    "def ispalindrom(text):\n",
    "    text = text.replace(\" \", \"\").lower()\n",
    "    if text == text[::-1]:\n",
    "        print(\"It's a palindrom\")\n",
    "    else:\n",
    "        print(\"It's not a palindrom\")\n",
    "\n",
    "text = input(\"Введіть текст:\")\n",
    "ispalindrom(text)\n",
    "\n",
    "text = input(\"Введіть текст:\")\n",
    "ispalindrom(text)"
   ]
  },
  {
   "cell_type": "markdown",
   "metadata": {},
   "source": [
    "### Приклад 2\n",
    "\n",
    "Анаграма -- це нове слово, сформоване шляхом перестановки букв слова, використовуючи всі оригінальні букви рівно один раз. Наприклад, слова \"Актёр\" та \"тёрка\" є анаграмами, а \"я є\" і \"ви є\" -- ні.\n",
    "\n",
    "Ваше завдання -- написати програму, яка:\n",
    "\n",
    "* запитує у користувача два окремі тексти;\n",
    "* перевіряє, чи введені тексти є анаграмами, і виводить результат.\n",
    "\n",
    "Примітка:\n",
    "\n",
    "* припустимо, що два порожні рядки не є анаграмами;\n",
    "* великі та малі літери обробляються як однакові;\n",
    "* прогалини не враховуються під час перевірки - трактуйте їх як неіснуючі.\n",
    "\n",
    "Протестуйте свій код, використовуючи надані нами дані.\n",
    "\n",
    "Приклад вводу: \n",
    "\n",
    "`Listen`  \n",
    "`Silent`\n",
    "\n",
    "Приклад виводу:  \n",
    "\n",
    "`Anagrams`\n",
    "\n",
    "Приклад вводу:  \n",
    "\n",
    "`modern`  \n",
    "`norman`  \n",
    "\n",
    "Приклад вивода:  \n",
    "\n",
    "`Not anagrams`"
   ]
  },
  {
   "cell_type": "code",
   "execution_count": 16,
   "metadata": {},
   "outputs": [
    {
     "name": "stdin",
     "output_type": "stream",
     "text": [
      "Введіть перше слово: Listen\n",
      "Введіть друге слово: Silent\n"
     ]
    },
    {
     "name": "stdout",
     "output_type": "stream",
     "text": [
      "Анаграми\n"
     ]
    }
   ],
   "source": [
    "# Пеервірка на анаграму\n",
    "\n",
    "text1 = input(\"Введіть перше слово:\")\n",
    "text2 = input(\"Введіть друге слово:\")\n",
    "\n",
    "text1 = list(text1.replace(\" \", \"\").lower())\n",
    "text2 = list(text2.replace(\" \", \"\").lower())\n",
    "\n",
    "if sorted(text1) == sorted(text2):\n",
    "    print(\"Анаграми\")\n",
    "else:\n",
    "    print(\"Не анаграми\")"
   ]
  },
  {
   "cell_type": "markdown",
   "metadata": {},
   "source": [
    "### Приклад 3\n",
    "Дехто каже, що Цифра життя – це цифра, обчислена з використанням чийогось дня народження. Все просто – потрібно просто скласти всі цифри дати. Якщо результат містить більше однієї цифри, Ви повинні повторювати додавання, доки не отримаєте одну цифру. Наприклад:\n",
    "\n",
    "1 January 2017 = 2017 01 01\n",
    "2 + 0 + 1 + 7 + 0 + 1 + 0 + 1 = 12\n",
    "1 + 2 = 3\n",
    "3 - цифра, яку ми шукали та знайшли.\n",
    "\n",
    "Ваше завдання - написати програму, яка:\n",
    "\n",
    "запитує користувача про його/її день народження (у форматі РРРГММДД, або РРРРДДММ, або ММДДРРРР - фактично порядок цифр не має значення);\n",
    "виводить цифру життя для дати.\n",
    "Протестуйте свій код, використовуючи надані нами дані.  \n",
    "\n",
    "Тестові дані:\n",
    "\n",
    "`19991229`  \n",
    "`6`  \n",
    "\n",
    "Приклад вивода: \n",
    "\n",
    "`20000101`\n",
    "`4`\n"
   ]
  },
  {
   "cell_type": "code",
   "execution_count": 1,
   "metadata": {},
   "outputs": [
    {
     "name": "stdin",
     "output_type": "stream",
     "text": [
      "Введіть дату народження у форматі YYYYMMDD: 1223222\n"
     ]
    },
    {
     "name": "stdout",
     "output_type": "stream",
     "text": [
      "5\n"
     ]
    }
   ],
   "source": [
    "# ПЕРШИЙ варіант\n",
    "\n",
    "# Обчислює число \"життя\": суму цифр повної дати народження\n",
    "date = input(\"Введіть дату народження у форматі YYYYMMDD:\")\n",
    "\n",
    "while True:\n",
    "    sum = 0\n",
    "    for simbol in date:\n",
    "        sum += int(simbol)\n",
    "\n",
    "    date = str(sum)\n",
    "\n",
    "    if len(date) == 1:\n",
    "        break\n",
    "\n",
    "print(sum)"
   ]
  },
  {
   "cell_type": "code",
   "execution_count": null,
   "metadata": {},
   "outputs": [],
   "source": [
    "# ДРУГИЙ варіант\n",
    "\n",
    "# def calculate_life_number(date):\n",
    "#     # видалення всіх символів, окрім цифрр\n",
    "#     digits = ''.join(filter(str.isdigit, date))\n",
    "\n",
    "#     # вычисление суммы цифр\n",
    "#     digit_sum = sum(int(d) for d in digits)\n",
    "\n",
    "#     # повторне додавання, якщо результат містить більше однієї цифри\n",
    "#     while digit_sum > 9:\n",
    "#         digit_sum = sum(int(d) for d in str(digit_sum))\n",
    "\n",
    "#     return digit_sum\n",
    "\n",
    "\n",
    "# # Запит дати народження користувача\n",
    "# date = input(\"Введіть дату народження у форматі РРРРММДД, РРРРДДММ или ММДДРРРР: \")\n",
    "\n",
    "# # Обчислення цифри життя та виведення результату\n",
    "# life_number = calculate_life_number(date)\n",
    "# print(\"Цифра життя для дати {}: {}\".format(date, life_number))"
   ]
  },
  {
   "cell_type": "markdown",
   "metadata": {},
   "source": [
    "### Завдання 1"
   ]
  },
  {
   "cell_type": "markdown",
   "metadata": {},
   "source": [
    "Давайте зіграємо у гру. Ми дамо Вам два рядки: один - слово (наприклад, \"dog\"), а другий - комбінація будь-яких символів.\n",
    "\n",
    "Ваше завдання – написати програму, яка відповість на наступне запитання: символи, що становлять перший рядок, приховані всередині другого рядка?\n",
    "\n",
    "Наприклад:\n",
    "\n",
    "якщо другий рядок заданий як \"vcxzxduybfdsobywuefgas\", відповідь `Yes`;\n",
    "якщо другий рядок \"vcxzxdcybfdstbywuefsas\", відповідь `No` (бо немає букв \"d\", \"o\" або \"g\" у цьому порядку).\n",
    "\n",
    "Підказка:\n",
    "\n",
    "Ви повинні використовувати варіанти з двома аргументами функцій `find()` всередині коду;\n",
    "не турбуйтеся про чутливість до регістру.\n",
    "Протестуйте свій код, використовуючи надані нами дані."
   ]
  },
  {
   "cell_type": "code",
   "execution_count": 1,
   "metadata": {},
   "outputs": [
    {
     "name": "stdout",
     "output_type": "stream",
     "text": [
      "Yes\n",
      "No\n"
     ]
    }
   ],
   "source": [
    "def hidden_symbols(text1, text2):\n",
    "    checkText = \"\"\n",
    "    \n",
    "    for char in text1:\n",
    "        flag = text2.find(char,0)\n",
    "        if flag != -1:\n",
    "            checkText += char\n",
    "        else:\n",
    "            print(\"No\")\n",
    "            return\n",
    "        \n",
    "    if text1 == checkText:\n",
    "        print(\"Yes\")\n",
    "\n",
    "\n",
    "text1 = \"dog\"\n",
    "text2 = \"vcxzxduybfdsobywuefgas\"\n",
    "\n",
    "hidden_symbols(text1, text2)\n",
    "\n",
    "text1 = \"dog\"\n",
    "text2 = \"vcxzxdcybfdstbywuefsas\"\n",
    "\n",
    "hidden_symbols(text1, text2)"
   ]
  },
  {
   "cell_type": "markdown",
   "metadata": {},
   "source": [
    "### Приклад 4\n",
    "\n",
    "Можна \"ловити\" і обробляти винятки в Python за допомогою `try-except` блоку. Отже, якщо у є підозра, що будь-який конкретний шматок коду може викликати виняток, можна написати код, який коректно оброблятиме його і не припинить виконання програми:"
   ]
  },
  {
   "cell_type": "code",
   "execution_count": 3,
   "metadata": {},
   "outputs": [
    {
     "name": "stdout",
     "output_type": "stream",
     "text": [
      " Введіть ціле число: gfd\n",
      "Введене значення не є допустимим числом. Повторіть спробу...\n",
      " Введіть ціле число: gd\n",
      "Введене значення не є допустимим числом. Повторіть спробу...\n",
      " Введіть ціле число: 54\n",
      "27.0\n"
     ]
    }
   ],
   "source": [
    "while True:\n",
    "    try: \n",
    "        number = int(input(\" Введіть ціле число: \")) \n",
    "        print(number/2) \n",
    "        break \n",
    "    except: \n",
    "        print(\"Введене значення не є допустимим числом. Повторіть спробу...\")"
   ]
  },
  {
   "cell_type": "markdown",
   "metadata": {},
   "source": [
    "### Завдання 2\n",
    "\n",
    "Модифікувати код з __Прикладу 3__ таким чином, щоби виняток, який виникає при введені, оброблявся і забезпечував функціонування програми."
   ]
  },
  {
   "cell_type": "code",
   "execution_count": 5,
   "metadata": {},
   "outputs": [
    {
     "name": "stdout",
     "output_type": "stream",
     "text": [
      "Введіть дату народження у форматі YYYYMMDD:20020902\n",
      "6\n"
     ]
    }
   ],
   "source": [
    "def numberOfLife(date):\n",
    "    while True:\n",
    "        date = str(date)\n",
    "        sum = 0\n",
    "        for simbol in date:\n",
    "            sum += int(simbol)\n",
    "    \n",
    "        date = str(sum)\n",
    "    \n",
    "        if len(date) == 1:\n",
    "            break\n",
    "    \n",
    "    print(sum)\n",
    "    \n",
    "while True:\n",
    "    try:\n",
    "        date = int(input(\"Введіть дату народження у форматі YYYYMMDD:\"))\n",
    "        numberOfLife(date)\n",
    "        break\n",
    "    \n",
    "    except ValueError:\n",
    "            print(\"неприпустимі значення, спробуйте ще раз\")"
   ]
  },
  {
   "cell_type": "markdown",
   "metadata": {},
   "source": [
    "### Завдання 3\n",
    "\n",
    "Ваше завдання -- написати функцію, здатну набувати цілочисельних значень і перевіряти, чи знаходяться вони в зазначеному діапазоні.\n",
    "\n",
    "Функція повинна:\n",
    "\n",
    "* прийняти три аргументи: запит на введення даних, допустимі верхній та нижній межі;\n",
    "* якщо користувач вводить рядок, який не є цілим числом, функція повинна видати повідомлення `Error: wrong input і попросити користувача ввести значення знову`;\n",
    "* якщо користувач вводить число, яке виходить за межі вказаного діапазону, функція повинна видати повідомлення Error: the value is not within permitted range (`min..max`) і попросити користувача знову ввести значення;\n",
    "* якщо вхідне значення допустиме, поверніть його як результат."
   ]
  },
  {
   "cell_type": "code",
   "execution_count": 10,
   "metadata": {},
   "outputs": [
    {
     "name": "stdout",
     "output_type": "stream",
     "text": [
      "Enter the number: g\n",
      "Enter min_number: 5\n",
      "Enter max_number: c\n",
      "Error: wrong input for max\n",
      "enter again: 8\n",
      "Error: wrong input\n",
      "enter again: 10\n",
      "Error: the value is not within permitted range (5...8)\n",
      "enter again: 7\n",
      "7\n"
     ]
    }
   ],
   "source": [
    "def integer_check(number, min_number, max_number):\n",
    "    while True:\n",
    "        flagA = 0\n",
    "        flagB = 0\n",
    "        \n",
    "        try:\n",
    "            min_number = int(min_number)\n",
    "            flagA = 1\n",
    "        except ValueError:\n",
    "            print(\"Error: wrong input for min\")\n",
    "            min_number = input(\"enter again: \")\n",
    "            \n",
    "        try:\n",
    "            max_number = int(max_number)\n",
    "            flagB = 1\n",
    "        except ValueError:\n",
    "            print(\"Error: wrong input for max\")\n",
    "            max_number = input(\"enter again: \")\n",
    "        \n",
    "        if flagA == 1 and flagB == 1:\n",
    "            try:\n",
    "                number = int(number)\n",
    "                if number >= min_number and number <= max_number:\n",
    "                    print(number)\n",
    "                    return\n",
    "                else:\n",
    "                    print(\"Error: the value is not within permitted range (\" + str(min_number) + \"...\" + str(max_number) + \")\")\n",
    "                    number = input(\"enter again: \")\n",
    "                \n",
    "            except ValueError:\n",
    "                print(\"Error: wrong input\")\n",
    "                number = input(\"enter again: \")\n",
    "\n",
    "    \n",
    "number = input(\"Enter the number: \")\n",
    "min_number = input(\"Enter min_number: \")\n",
    "max_number = input(\"Enter max_number: \")\n",
    "\n",
    "integer_check(number, min_number, max_number)"
   ]
  },
  {
   "attachments": {},
   "cell_type": "markdown",
   "metadata": {},
   "source": [
    "### Контрольні запитання\n",
    "\n",
    "1. Який очікуваний вивід наступного коду?\n",
    "![](image/lab10_1.jpg)\n",
    "- Let's try to do this <br> We failed <br> We're done\n",
    "\n",
    "2. Який очікуваний результат наступного коду?\n",
    "![](image/lab10_2.jpg)\n",
    "- zero"
   ]
  }
 ],
 "metadata": {
  "kernelspec": {
   "display_name": "Python 3 (ipykernel)",
   "language": "python",
   "name": "python3"
  },
  "language_info": {
   "codemirror_mode": {
    "name": "ipython",
    "version": 3
   },
   "file_extension": ".py",
   "mimetype": "text/x-python",
   "name": "python",
   "nbconvert_exporter": "python",
   "pygments_lexer": "ipython3",
   "version": "3.9.13"
  }
 },
 "nbformat": 4,
 "nbformat_minor": 4
}
